{
 "cells": [
  {
   "cell_type": "code",
   "execution_count": 2,
   "metadata": {},
   "outputs": [],
   "source": [
    "import ipywidgets as ipy\n",
    "import sys\n",
    "sys.path.append('..')"
   ]
  },
  {
   "cell_type": "code",
   "execution_count": 3,
   "metadata": {},
   "outputs": [],
   "source": [
    "from drive_system.hexapod.hexapod_drive import Hexapod, UartMiniSsc\n",
    "from drive_system.hexapod.hexy.servo_driver import ServoDriver\n",
    "\n",
    "class MockServoDriver(ServoDriver):\n",
    "    \n",
    "    def __init__(self, verbose=False):\n",
    "        self.verbose = verbose\n",
    "    \n",
    "    def drive(self, channel, value):\n",
    "        if self.verbose:\n",
    "            print('driving')\n",
    "    "
   ]
  },
  {
   "cell_type": "code",
   "execution_count": 4,
   "metadata": {},
   "outputs": [],
   "source": [
    "# hexy's software expects:\n",
    "# Hip : +- 45 deg\n",
    "# Knee : +- 50 deg\n",
    "# Ankle : +- 90 deg\n",
    "joint_properties = {\n",
    "    'LFH': (0, 0, 255), 'LFK': (1, 0, 255), 'LFA': (2, 0, 255),\n",
    "    'RFH': (3, 0, 255), 'RFK': (4, 0, 255), 'RFA': (5, 0, 255),\n",
    "    'LMH': (6, 0, 255), 'LMK': (7, 0, 255), 'LMA': (8, 0, 255),\n",
    "    'RMH': (9, 0, 255), 'RMK': (10, 0, 255), 'RMA': (11, 0, 255),\n",
    "    'LBH': (12, 0, 255), 'LBK': (13, 0, 255), 'LBA': (14, 0, 255),\n",
    "    'RBH': (15, 0, 255), 'RBK': (16, 0, 255), 'RBA': (17, 0, 255),\n",
    "    'N': (18, 0, 255)\n",
    "}\n",
    "\n",
    "# servo_driver = UartMiniSsc()\n",
    "servo_driver = MockServoDriver()\n",
    "\n",
    "hexy = Hexapod(servo_driver, joint_properties)"
   ]
  },
  {
   "cell_type": "code",
   "execution_count": 5,
   "metadata": {},
   "outputs": [
    {
     "data": {
      "application/vnd.jupyter.widget-view+json": {
       "model_id": "ff2cae683d8b4433aef170a8be99d719",
       "version_major": 2,
       "version_minor": 0
      },
      "text/plain": [
       "VBox(children=(IntRangeSlider(value=(0, 255), description='Hip: +-45', max=255), Output()))"
      ]
     },
     "metadata": {},
     "output_type": "display_data"
    }
   ],
   "source": [
    "print_output = ipy.Output()\n",
    "\n",
    "def leg_calibrator(leg_name):\n",
    "    leg = getattr(hexy, leg_name)\n",
    "    hip_slider = ipy.IntRangeSlider(\n",
    "        value=[0, 255],\n",
    "        min=0,\n",
    "        max=255,\n",
    "        description='Hip: +-45'\n",
    "    )\n",
    "    def on_hip_slider_change(change):\n",
    "        with print_output:\n",
    "            print(change)\n",
    "        \n",
    "    hip_slider.observe(on_hip_slider_change, 'value')\n",
    "    return hip_slider\n",
    "    \n",
    "\n",
    "ipy.VBox([leg_calibrator('left_front'), print_output])"
   ]
  },
  {
   "cell_type": "code",
   "execution_count": 5,
   "metadata": {},
   "outputs": [
    {
     "ename": "ModuleNotFoundError",
     "evalue": "No module named 'cPickle'",
     "output_type": "error",
     "traceback": [
      "\u001b[0;31m---------------------------------------------------------------------------\u001b[0m",
      "\u001b[0;31mModuleNotFoundError\u001b[0m                       Traceback (most recent call last)",
      "\u001b[0;32m<ipython-input-5-77587eb799e3>\u001b[0m in \u001b[0;36m<module>\u001b[0;34m()\u001b[0m\n\u001b[1;32m      1\u001b[0m \u001b[0;31m# once done, save joint properties as a pkl file so it's separate to the code and can be reloaded later\u001b[0m\u001b[0;34m\u001b[0m\u001b[0;34m\u001b[0m\u001b[0m\n\u001b[0;32m----> 2\u001b[0;31m \u001b[0;32mimport\u001b[0m \u001b[0mcPickle\u001b[0m\u001b[0;34m\u001b[0m\u001b[0m\n\u001b[0m\u001b[1;32m      3\u001b[0m \u001b[0;34m\u001b[0m\u001b[0m\n\u001b[1;32m      4\u001b[0m \u001b[0mcPickle\u001b[0m\u001b[0;34m.\u001b[0m\u001b[0mdump\u001b[0m\u001b[0;34m(\u001b[0m\u001b[0mjoint_properties\u001b[0m\u001b[0;34m,\u001b[0m \u001b[0;34m'joint_properties.pkl'\u001b[0m\u001b[0;34m)\u001b[0m\u001b[0;34m\u001b[0m\u001b[0m\n",
      "\u001b[0;31mModuleNotFoundError\u001b[0m: No module named 'cPickle'"
     ]
    }
   ],
   "source": [
    "# once done, save joint properties as a pkl file so it's separate to the code and can be reloaded later\n",
    "import cPickle\n",
    "\n",
    "cPickle.dump(joint_properties, 'joint_properties.pkl')"
   ]
  },
  {
   "cell_type": "code",
   "execution_count": null,
   "metadata": {},
   "outputs": [],
   "source": [
    "w = ipy.IntSlider()\n",
    "display(w)"
   ]
  },
  {
   "cell_type": "code",
   "execution_count": null,
   "metadata": {},
   "outputs": [],
   "source": []
  }
 ],
 "metadata": {
  "celltoolbar": "Attachments",
  "kernelspec": {
   "display_name": "Python 3",
   "language": "python",
   "name": "python3"
  },
  "language_info": {
   "codemirror_mode": {
    "name": "ipython",
    "version": 3
   },
   "file_extension": ".py",
   "mimetype": "text/x-python",
   "name": "python",
   "nbconvert_exporter": "python",
   "pygments_lexer": "ipython3",
   "version": "3.6.6"
  }
 },
 "nbformat": 4,
 "nbformat_minor": 4
}
