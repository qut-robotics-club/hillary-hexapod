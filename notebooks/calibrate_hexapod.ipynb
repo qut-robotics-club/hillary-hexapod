{
 "cells": [
  {
   "cell_type": "code",
   "execution_count": 1,
   "metadata": {},
   "outputs": [],
   "source": [
    "import ipywidgets as ipy\n",
    "import sys\n",
    "sys.path.append('..')\n",
    "from hyper_controller.drive_system.hexapod.hexapod_drive import Hexapod, UartMiniSsc"
   ]
  },
  {
   "cell_type": "code",
   "execution_count": 2,
   "metadata": {},
   "outputs": [],
   "source": [
    "from hyper_controller.drive_system.hexapod.hexy.servo_driver import ServoDriver\n",
    "\n",
    "class MockServoDriver(ServoDriver):\n",
    "    \n",
    "    def __init__(self, verbose=False):\n",
    "        self.verbose = verbose\n",
    "    \n",
    "    def drive(self, channel, value):\n",
    "        if self.verbose:\n",
    "            print('driving')\n",
    "    "
   ]
  },
  {
   "cell_type": "code",
   "execution_count": 3,
   "metadata": {},
   "outputs": [],
   "source": [
    "# hexy's software expects:\n",
    "# Hip : +- 45 deg\n",
    "# Knee : +- 50 deg\n",
    "# Ankle : +- 90 deg\n",
    "joint_properties = {\n",
    "    'LFH': (0, 0, 255), 'LFK': (1, 0, 255), 'LFA': (2, 0, 255),\n",
    "    'RFH': (3, 0, 255), 'RFK': (4, 0, 255), 'RFA': (5, 0, 255),\n",
    "    'LMH': (6, 0, 255), 'LMK': (7, 0, 255), 'LMA': (8, 0, 255),\n",
    "    'RMH': (9, 0, 255), 'RMK': (10, 0, 255), 'RMA': (11, 0, 255),\n",
    "    'LBH': (12, 0, 255), 'LBK': (13, 0, 255), 'LBA': (14, 0, 255),\n",
    "    'RBH': (15, 0, 255), 'RBK': (16, 0, 255), 'RBA': (17, 0, 255),\n",
    "    'N': (18, 0, 255)\n",
    "}\n",
    "\n",
    "# servo_driver = UartMiniSsc()\n",
    "servo_driver = MockServoDriver()\n",
    "\n",
    "hexy = Hexapod(servo_driver, joint_properties)"
   ]
  },
  {
   "cell_type": "code",
   "execution_count": 14,
   "metadata": {},
   "outputs": [
    {
     "data": {
      "application/vnd.jupyter.widget-view+json": {
       "model_id": "eadcbd08c9804e23b2cbf9f651dd69df",
       "version_major": 2,
       "version_minor": 0
      },
      "text/plain": [
       "VBox(children=(IntRangeSlider(value=(0, 255), description='Hip: +-45', max=255), Output()))"
      ]
     },
     "metadata": {},
     "output_type": "display_data"
    }
   ],
   "source": [
    "print_output = ipy.Output()\n",
    "\n",
    "def leg_calibrator(leg_name):\n",
    "    leg = getattr(hexy, leg_name)\n",
    "    hip_slider = ipy.IntRangeSlider(\n",
    "        value=[0, 255],\n",
    "        min=0,\n",
    "        max=255,\n",
    "        description='Hip: +-45'\n",
    "    )\n",
    "    def on_hip_slider_change(change):\n",
    "        with print_output:\n",
    "            print(change)\n",
    "        \n",
    "    hip_slider.observe(on_hip_slider_change, 'value')\n",
    "    return hip_slider\n",
    "    \n",
    "\n",
    "ipy.VBox([leg_calibrator('left_front'), print_output])"
   ]
  },
  {
   "cell_type": "code",
   "execution_count": null,
   "metadata": {},
   "outputs": [],
   "source": [
    "# once done, save joint properties as a pkl file so it's separate to the code and can be reloaded later\n",
    "import cPickle\n",
    "\n",
    "cPickle.dump(joint_properties, 'joint_properties.pkl')"
   ]
  }
 ],
 "metadata": {
  "kernelspec": {
   "display_name": "Python 3",
   "language": "python",
   "name": "python3"
  },
  "language_info": {
   "codemirror_mode": {
    "name": "ipython",
    "version": 3
   },
   "file_extension": ".py",
   "mimetype": "text/x-python",
   "name": "python",
   "nbconvert_exporter": "python",
   "pygments_lexer": "ipython3",
   "version": "3.7.3"
  }
 },
 "nbformat": 4,
 "nbformat_minor": 4
}
